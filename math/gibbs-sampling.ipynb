{
 "cells": [
  {
   "cell_type": "markdown",
   "metadata": {},
   "source": [
    "### 正定矩阵\n",
    "一个 $n\\times n$ 的实对称矩阵 $M$ 是正定的，当且仅当对于所有的非零实系数向量 $z$，都有 $z^TMz>0$。其中 $z^T$ 表示 $z$ 的转置。\n",
    "### Cholesky 分解\n",
    "每个对称的正定矩阵都可以分解为唯一的下三角矩阵 $L$ 和它的转置的乘积：$A = L^TL$\n",
    "\n",
    "其中，$L$ 称为 $A$ 的 Cholesky 因子，可以理解为 $A$ 的广义平方根。\n",
    "$$ A = \n",
    " \\left[\n",
    " \\begin{matrix}\n",
    "   a_{11} & a_{21} & a_{31} \\\\\n",
    "   a_{21} & a_{22} & a_{23} \\\\\n",
    "   a_{31} & a_{32} & a_{33}\n",
    "  \\end{matrix}\n",
    "  \\right] = \\left[\n",
    " \\begin{matrix}\n",
    "   l_{11} & 0 & 0 \\\\\n",
    "   l_{21} & l_{22} & 0 \\\\\n",
    "   l_{31} & l_{32} & l_{33}\n",
    "  \\end{matrix}\n",
    "  \\right]\\left[\n",
    " \\begin{matrix}\n",
    "   l_{11} & l_{21} & l_{31} \\\\\n",
    "   0 & l_{22} & l_{32} \\\\\n",
    "   0 & 0 & l_{33}\n",
    "  \\end{matrix}\n",
    "  \\right] = LL^T\n",
    "$$\n",
    "$$\n",
    "= \\left[\n",
    " \\begin{matrix}\n",
    "   l_{11}^2 & l_{21}l_{11} & l_{31}l_{11} \\\\\n",
    "   l_{21}l_{11} & l_{21}^2 + l_{22}^2 & l_{31}l_{21} + l_{32}l_{22} \\\\\n",
    "   l_{31}l_{11} & l_{31}l_{21} + l_{32}l_{22} & l_{31}^2 + l_{32}^2 + l_{33}^2\n",
    "  \\end{matrix}\n",
    "  \\right]\n",
    "$$\n",
    "所以，可以得到以下式子：\n",
    "$$l_{11} = \\sqrt{a_{11}}$$\n",
    "$$l_{22} = \\sqrt{a_{22} - l^2_{21}}$$\n",
    "$$l_{33} = \\sqrt{a_{33} - (l^2_{31}+l^2_{32})}$$\n",
    "总结为：\n",
    "$$l_{kk} = \\sqrt{a_{kk} - \\sum_{j=1}^{k-1}l^2_{kj}}$$\n",
    "对 $l_{ik}, i > k$ 的情况：\n",
    "$$l_{21} = \\frac{1}{l_{11}}a_{21}$$\n",
    "$$l_{31} = \\frac{1}{l_{11}}a_{31}$$\n",
    "$$l_{32} = \\frac{1}{l_{22}}(a_{32} - l_{31}l_{21})$$\n",
    "总结为：\n",
    "$$l_{ik} = \\frac{1}{l_{kk}}(a_{ik} - \\sum_{j=1}^{k-1}l_{ij}l_{kj})$$"
   ]
  },
  {
   "cell_type": "markdown",
   "metadata": {},
   "source": [
    "### gibbs sampling\n",
    "https://github.com/jessstringham/notebooks/blob/master/2018-05-09-gibbs-sampling.ipynb"
   ]
  },
  {
   "cell_type": "code",
   "execution_count": 5,
   "metadata": {},
   "outputs": [
    {
     "data": {
      "text/plain": [
       "Text(0.5, 0.98, 'Categorical Plotting')"
      ]
     },
     "execution_count": 5,
     "metadata": {},
     "output_type": "execute_result"
    },
    {
     "data": {
      "image/png": "[encoded data removed]",
      "text/plain": [
       "<Figure size 648x216 with 3 Axes>"
      ]
     },
     "metadata": {
      "needs_background": "light"
     },
     "output_type": "display_data"
    }
   ],
   "source": [
    "import matplotlib.pyplot as plt\n",
    "\n",
    "data = {'apples': 10, 'oranges': 15, 'lemons': 5, 'limes': 20}\n",
    "names = list(data.keys())\n",
    "values = list(data.values())\n",
    "\n",
    "fig, axs = plt.subplots(1, 3, figsize=(9, 3), sharey=True)\n",
    "axs[0].bar(names, values)\n",
    "axs[1].scatter(names, values)\n",
    "axs[2].plot(names, values, 'b')\n",
    "fig.suptitle('Categorical Plotting')"
   ]
  }
 ],
 "metadata": {
  "kernelspec": {
   "display_name": "Python 3",
   "language": "python",
   "name": "python3"
  },
  "language_info": {
   "codemirror_mode": {
    "name": "ipython",
    "version": 3
   },
   "file_extension": ".py",
   "mimetype": "text/x-python",
   "name": "python",
   "nbconvert_exporter": "python",
   "pygments_lexer": "ipython3",
   "version": "3.6.0"
  }
 },
 "nbformat": 4,
 "nbformat_minor": 2
}
